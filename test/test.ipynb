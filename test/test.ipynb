{
 "cells": [
  {
   "cell_type": "code",
   "execution_count": 1,
   "metadata": {
    "collapsed": true,
    "run_control": {
     "frozen": false,
     "read_only": false
    }
   },
   "outputs": [],
   "source": [
    "%load_ext autoreload\n",
    "%autoreload 2"
   ]
  },
  {
   "cell_type": "code",
   "execution_count": 2,
   "metadata": {
    "collapsed": true,
    "run_control": {
     "frozen": false,
     "read_only": false
    }
   },
   "outputs": [],
   "source": [
    "import sys\n",
    "sys.path.append('..')"
   ]
  },
  {
   "cell_type": "code",
   "execution_count": 3,
   "metadata": {
    "collapsed": true,
    "run_control": {
     "frozen": false,
     "read_only": false
    }
   },
   "outputs": [],
   "source": [
    "import datetime\n",
    "import random\n",
    "from functools import partial\n",
    "from multiprocessing.pool import Pool\n",
    "\n",
    "import Levenshtein\n",
    "import matplotlib.pyplot as plt\n",
    "from sklearn.metrics.pairwise import cosine_similarity\n",
    "from tqdm import tqdm_notebook as tqdm\n",
    "\n",
    "from src.text_transformer import PhoneticTextTransformer, TfidfTextTransformer, WmdTextTransformer\n",
    "from src.corpora import load_phonetized_normalized_corpora\n",
    "\n",
    "from data import load_questions_data\n",
    "from typo_making import variants\n",
    "\n",
    "%matplotlib inline"
   ]
  },
  {
   "cell_type": "code",
   "execution_count": null,
   "metadata": {
    "collapsed": true,
    "run_control": {
     "frozen": false,
     "read_only": false
    }
   },
   "outputs": [],
   "source": []
  },
  {
   "cell_type": "code",
   "execution_count": 4,
   "metadata": {
    "collapsed": true,
    "run_control": {
     "frozen": false,
     "read_only": false
    }
   },
   "outputs": [],
   "source": [
    "questions = load_questions_data()"
   ]
  },
  {
   "cell_type": "code",
   "execution_count": 5,
   "metadata": {
    "run_control": {
     "frozen": false,
     "read_only": false
    }
   },
   "outputs": [
    {
     "data": {
      "text/plain": [
       "['как долго рассматривается проект ',\n",
       " 'я за неделю успею получить решение',\n",
       " 'сколько рассматривается сделка по спецтехнике?',\n",
       " 'как скоро я получу ответ по заявке по спецтехнике?',\n",
       " 'сколько времени ждать по спецтехнике?',\n",
       " 'сколько времени занимает рассмотрение ',\n",
       " 'сколько дней принятие решения',\n",
       " 'как долго уйдет на принятие решения по мне',\n",
       " 'сколько времени займет принятие решения по проекту',\n",
       " 'как быстро я смогу получить грузовой автомобиль',\n",
       " 'Я хочу заключить лизинговую сделку завтра / сегодня ']"
      ]
     },
     "execution_count": 5,
     "metadata": {},
     "output_type": "execute_result"
    }
   ],
   "source": [
    "questions[0]"
   ]
  },
  {
   "cell_type": "code",
   "execution_count": 6,
   "metadata": {
    "run_control": {
     "frozen": false,
     "read_only": false
    }
   },
   "outputs": [
    {
     "data": {
      "text/plain": [
       "281"
      ]
     },
     "execution_count": 6,
     "metadata": {},
     "output_type": "execute_result"
    }
   ],
   "source": [
    "len(questions)"
   ]
  },
  {
   "cell_type": "code",
   "execution_count": null,
   "metadata": {
    "collapsed": true,
    "run_control": {
     "frozen": false,
     "read_only": false
    }
   },
   "outputs": [],
   "source": []
  },
  {
   "cell_type": "code",
   "execution_count": 7,
   "metadata": {
    "run_control": {
     "frozen": false,
     "read_only": false
    },
    "scrolled": true
   },
   "outputs": [],
   "source": [
    "corpora = load_phonetized_normalized_corpora()"
   ]
  },
  {
   "cell_type": "code",
   "execution_count": 8,
   "metadata": {
    "run_control": {
     "frozen": false,
     "read_only": false
    }
   },
   "outputs": [
    {
     "data": {
      "text/plain": [
       "102702"
      ]
     },
     "execution_count": 8,
     "metadata": {},
     "output_type": "execute_result"
    }
   ],
   "source": [
    "len(corpora)"
   ]
  },
  {
   "cell_type": "code",
   "execution_count": null,
   "metadata": {
    "collapsed": true,
    "run_control": {
     "frozen": false,
     "read_only": false
    }
   },
   "outputs": [],
   "source": []
  },
  {
   "cell_type": "code",
   "execution_count": 9,
   "metadata": {
    "collapsed": true,
    "run_control": {
     "frozen": false,
     "read_only": false
    }
   },
   "outputs": [],
   "source": [
    "# def test_one(transformer_class, questions_groups, question):\n",
    "#     test_questions_groups = []\n",
    "#     group_where_is_question = None\n",
    "#     for group in questions_groups:\n",
    "#         if question in group:\n",
    "#             if group_where_is_question is not None:\n",
    "#                 print('warning: question \"{}\" is in both group \"{}\" and \"{}\"'.format(question, group_where_is_question, group))\n",
    "#                 print('ignore question')\n",
    "#                 return None\n",
    "#             group_where_is_question = [it for it in group if it != question]\n",
    "#             test_questions_groups.append(group_where_is_question)\n",
    "#         else:\n",
    "#             test_questions_groups.append(group)\n",
    "            \n",
    "#     assert group_where_is_question is not None\n",
    "  \n",
    "#     transformer = transformer_class()\n",
    "#     transformer.fit(test_questions_groups)\n",
    "    \n",
    "#     question_vec = transformer.transform(question)\n",
    "#     vecs_groups = [(transformer.transform(q), group) for group in test_questions_groups for q in group]\n",
    "    \n",
    "#     pred_group_where_is_question = max(vecs_groups, key=lambda it: cosine_similarity(question_vec, it[0])[0])[1]\n",
    "#     return group_where_is_question == pred_group_where_is_question\n",
    "\n",
    "\n",
    "# def test_one_job(p):\n",
    "#     print('Start', p[0])\n",
    "#     r = test_one(p[2], p[3], p[1])\n",
    "#     print('✓ Done', r, p[0])\n",
    "#     return r\n",
    "            \n",
    "\n",
    "# def test_all(transformer_class, questions_groups):\n",
    "#     pool = Pool(4)\n",
    "#     scores = pool.map(test_one_job, [(i, it, transformer_class, questions_groups) \n",
    "#                                      for i, it in enumerate([it for group in questions_groups for it in group])])\n",
    "#     scores = [it for it in scores if it is not None]\n",
    "    \n",
    "#     accuracy = sum(scores) / len(scores)\n",
    "#     return accuracy"
   ]
  },
  {
   "cell_type": "code",
   "execution_count": 10,
   "metadata": {
    "collapsed": true,
    "run_control": {
     "frozen": false,
     "read_only": false
    }
   },
   "outputs": [],
   "source": [
    "def exclude_repeates_in_questions(questions_groups):\n",
    "    new_groups = list()\n",
    "    question_set = set()\n",
    "    for group in questions_groups:\n",
    "        new_groups.append([q for q in group if q not in question_set])\n",
    "        for q in group:\n",
    "            question_set.add(q)\n",
    "    return new_groups\n",
    "            \n",
    "\n",
    "def test_one(question_group_tuple, transformer, questions_groups):\n",
    "    question_vec = transformer.transform(question_group_tuple[0])\n",
    "    vecs_groups = [(transformer.transform(q), group) for group in questions_groups \n",
    "                                                     for q in group\n",
    "                                                     if q != question_group_tuple[0]]\n",
    "    \n",
    "    pred_group_where_is_question = max(vecs_groups, key=lambda it: cosine_similarity(question_vec, it[0])[0])[1]\n",
    "    r = question_group_tuple[1] == pred_group_where_is_question\n",
    "    print('\\n', datetime.datetime.utcnow(), 'Done', r, question_group_tuple[0], '\\n\\ttrue:', question_group_tuple[1], '\\n\\tpred:', pred_group_where_is_question)\n",
    "    return r\n",
    "    \n",
    "    \n",
    "def test_all(transformer, questions_groups):\n",
    "    questions_groups = exclude_repeates_in_questions(questions_groups)\n",
    "    \n",
    "    print(datetime.datetime.utcnow(), 'Fitting questions')\n",
    "    transformer.fit(questions_groups)\n",
    "    print(datetime.datetime.utcnow(), 'Fitted')\n",
    "    \n",
    "    pool = Pool(4)\n",
    "    data = [(q, group) for group in questions_groups for q in group]\n",
    "    scores = pool.map(partial(test_one, transformer=transformer, questions_groups=questions_groups), data)\n",
    "    return sum(scores) / len(scores)"
   ]
  },
  {
   "cell_type": "code",
   "execution_count": 11,
   "metadata": {
    "collapsed": true
   },
   "outputs": [],
   "source": [
    "qs = random.sample([it for group in questions for it in group], 50)"
   ]
  },
  {
   "cell_type": "code",
   "execution_count": 20,
   "metadata": {
    "collapsed": true
   },
   "outputs": [],
   "source": [
    "t = PhoneticTextTransformer(corpora)\n",
    "t.fit(questions)"
   ]
  },
  {
   "cell_type": "code",
   "execution_count": 21,
   "metadata": {
    "collapsed": true
   },
   "outputs": [],
   "source": [
    "from src.transforms.phonetize import phonetize"
   ]
  },
  {
   "cell_type": "code",
   "execution_count": 22,
   "metadata": {},
   "outputs": [
    {
     "data": {
      "text/plain": [
       "('наливай', 'нуливай')"
      ]
     },
     "execution_count": 22,
     "metadata": {},
     "output_type": "execute_result"
    }
   ],
   "source": [
    "phonetize('нолевой'), phonetize('нулевой')"
   ]
  },
  {
   "cell_type": "code",
   "execution_count": 23,
   "metadata": {
    "scrolled": false
   },
   "outputs": [
    {
     "name": "stdout",
     "output_type": "stream",
     "text": [
      "кто отвечает в случае непоставки\n",
      "кта атвичат ф случай нипаставка\n",
      "\n",
      "б/у танспортные средства возможно приобрести с субсидией Минпромторга\n",
      "п у танспартнай срицтва вазмажна приабристи с субсидиа минпрамтарк\n",
      "\n",
      "хантер в списке субсидий\n",
      "хантирит ф списак субсидиа\n",
      "\n",
      "Меня выгнали из гильдии. Могу я вступить в нее снова?\n",
      "а вагнат ис гилдиа мач а вступит ф ниа снава\n",
      "\n",
      "Что находится в Сундуке Фортуны?\n",
      "чта нахадитса ф сундQ фартуна\n",
      "\n",
      "Какой максимальный уровень Злости на Слейве?\n",
      "какай максималнай уравин зласт на слийф\n",
      "\n",
      "когда заканчивается лизинг?\n",
      "какда заканчиватса лизинк\n",
      "\n",
      "Как получить фиолетовые доспехи?\n",
      "как палучит фиалитавай даспY\n",
      "\n",
      "какой порядок досрочного выкупа?\n",
      "какай парадак дасрачнай вакуп\n",
      "\n",
      "досрочное погошение возможно\n",
      "дасрачнай пагашини вазмажна\n",
      "\n",
      "можно приобрести Хендай?\n",
      "мажна приабристи хиндат\n",
      "\n",
      "Что такое личная активность в Гильдии?\n",
      "чта такай личнай активнаст ф гилдиа\n",
      "\n",
      "rio хочу взять с субсидией минпромторга\n",
      "риа хатит фзат с субсидиа минпрамтарк\n",
      "\n",
      "Можно ли получить специалистов в разных версиях (мобильной и броузерной) в течение одних игровых суток?\n",
      "мажна ли палучит спициалист ф разнай вирсиа мабилнай и браузирнай ф тичини адO игравай сутки\n",
      "\n",
      "я физическое лицо, какакие документы мне потребуются для лизинга\n",
      "а физичискI лица какакI дакуминт а патрибаватса дла лизинк\n",
      "\n",
      "в какой валюте предоставляете по спецтехнике?\n",
      "ф какай валута придаставлат па спицтихнE\n",
      "\n",
      "какой максимальный размер субсидии по программе льготный лизинг с субсидированием от Минпромторга на один автомобиль\n",
      "какай максималнай размир субсидиа па праграма лгатнай лизинк с субсидиравани ат минпрамтарк на адO автамабил\n",
      "\n",
      "какой размер авансового платежа по договору \n",
      "какай размир авансавай платиш па дагавар\n",
      "\n",
      "Что выгоднее финансовый лизинг или операционный/ оперативный / аренда\n",
      "чта вагаднай финансавай лизинк или апирацианай апиративнай аринда\n",
      "\n",
      "Что может быть предметом лизинга\n",
      "чта мач бат придмит лизинк\n",
      "\n",
      "Какая погода на завтра / на улице\n",
      "какай пагада на завтра на улица\n",
      "\n",
      "kia участвует в субсидиях минпромторга\n",
      "киа участвават ф субсидиа минпрамтарк\n",
      "\n",
      "с кем из партнеров и поставщиков работаете по грузовым\n",
      "с кта ис партнир и паставщE рабатат па грузавай\n",
      "\n",
      "Почему у меня нет щита после третьего нападения?\n",
      "пачиму у а нит щит пасли трити нападини\n",
      "\n",
      "платежи одинаковые\n",
      "платиш адинакавай\n",
      "\n",
      "солярис в списке субсидий\n",
      "саларис ф списак субсидиа\n",
      "\n",
      "требуется помощь в сброе документов\n",
      "трибаватса памащ ф сбрай дакуминт\n",
      "\n",
      "Что означают кубки в интерфейсе гильдии?\n",
      "чта азначат кубак ф интирфийс гилдиа\n",
      "\n",
      "Сколько времени действует Злость?\n",
      "скалка врима дийствават зласт\n",
      "\n",
      "Можно ли сделать гладиатора более выносливым?\n",
      "мажна ли сдилат гладиатар бали ванасливай\n",
      "\n",
      "за чей счет регистрация\n",
      "за чI счит ригистрациа\n",
      "\n",
      "Почему у нас с соперником такая большая разница в рейтинге?\n",
      "пачиму у ма с сапирнE такай балшай разница ф рийтинк\n",
      "\n",
      "Почему игрок с низким уровнем выше меня по урону на Слейве?\n",
      "пачиму играк с низкI уравин ваши а па уран на слийф\n",
      "\n",
      "какая ставка и удорожание\n",
      "какай ставка и ударажани\n",
      "\n",
      "На уаз распространяется субсидия Минпром?\n",
      "на уас распрастранатса субсидиа минпрам\n",
      "\n",
      "В чем отличие финансового лизинга от операционного лизинга/ аренды/ оперативного лизинга\n",
      "ф чим атличи финансавай лизинк ат апирацианай лизинк аринда апиративнай лизинк\n",
      "\n",
      "Сколько единиц Злости можно купить?\n",
      "скалка идиница зласт мажна купит\n",
      "\n",
      "чем выгодна программа льготный лизинг\n",
      "чим вагаднай праграма лгатнай лизинк\n",
      "\n",
      "могу я взять в лизинг автомобиль импортного производства\n",
      "мач а фзат ф лизинк автамабил импартнай праисвацтва\n",
      "\n",
      "ford можно взять с субсидией минпромторга\n",
      "фарт мажна фзат с субсидиа минпрамтарк\n",
      "\n",
      "марки автомобилей которые участвуют в минпроме пришлите пожалуйста\n",
      "марка автамабил катарай участвават ф минпрам прислат пажалуйста\n",
      "\n",
      "От какого времени отсчитывать 6 часов, если у меня есть ВИП?\n",
      "ат какай врима ацчитават 6 часа исли у а ист вип\n",
      "\n",
      "lada в списке субсидий\n",
      "лада ф списак субсидиа\n",
      "\n",
      "можно на 24 мес. по грузовым автомобилям?\n",
      "мажна на 24 мис па грузавай автамабил\n",
      "\n",
      "хундай участвует в субсидиях минпромторга\n",
      "хундат участвават ф субсидиа минпрамтарк\n",
      "\n",
      "Когда на рынке появятся доспехи Центуриона или Самурая?\n",
      "какда на ранак павитса даспY цинтуриан или самурай\n",
      "\n",
      "Способности гладиаторов суммируются при использовании?\n",
      "спасабнаст гладиатар сумираватса при испалзавани\n",
      "\n",
      "можно ли не гасить тело кредита в течение 1-го года, 2-х лет, 3-х лет, всего срока действия договора\n",
      "мажна ли ни гасит тила кридит ф тичини 1 га гат 2 х гат 3 х гат всига срак дийстви дагавар\n",
      "\n",
      "Что означает кубок с черепом под входом в Гильдию на основном экране?\n",
      "чта азначат кубак с чирип пат вхат ф гилдиа на аснавнаи икран\n",
      "\n",
      "Как участвовать в соревновании?\n",
      "как участвават ф саривнавани\n",
      "\n"
     ]
    }
   ],
   "source": [
    "for q in qs:\n",
    "    print(q)\n",
    "    print(t.transform(q))\n",
    "    print()"
   ]
  },
  {
   "cell_type": "code",
   "execution_count": null,
   "metadata": {
    "collapsed": true
   },
   "outputs": [],
   "source": []
  },
  {
   "cell_type": "code",
   "execution_count": null,
   "metadata": {
    "collapsed": true
   },
   "outputs": [],
   "source": []
  },
  {
   "cell_type": "code",
   "execution_count": null,
   "metadata": {
    "collapsed": true
   },
   "outputs": [],
   "source": []
  },
  {
   "cell_type": "code",
   "execution_count": 16,
   "metadata": {
    "collapsed": true,
    "run_control": {
     "frozen": false,
     "read_only": false
    },
    "scrolled": false
   },
   "outputs": [],
   "source": [
    "# questions_subset = random.sample(questions, 25)\n",
    "# print('questions count:', len([it for group in questions_subset for it in group]))\n",
    "# test_all(transformer=TfidfTextTransformer(corpora=corpora), questions_groups=questions_subset)"
   ]
  },
  {
   "cell_type": "code",
   "execution_count": null,
   "metadata": {
    "collapsed": true,
    "run_control": {
     "frozen": false,
     "read_only": false
    }
   },
   "outputs": [],
   "source": []
  }
 ],
 "metadata": {
  "kernelspec": {
   "display_name": "Python 3",
   "language": "python",
   "name": "python3"
  },
  "language_info": {
   "codemirror_mode": {
    "name": "ipython",
    "version": 3
   },
   "file_extension": ".py",
   "mimetype": "text/x-python",
   "name": "python",
   "nbconvert_exporter": "python",
   "pygments_lexer": "ipython3",
   "version": "3.5.2"
  }
 },
 "nbformat": 4,
 "nbformat_minor": 2
}
