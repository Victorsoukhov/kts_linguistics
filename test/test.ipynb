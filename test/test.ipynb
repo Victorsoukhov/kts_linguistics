{
 "cells": [
  {
   "cell_type": "code",
   "execution_count": 1,
   "metadata": {
    "collapsed": true,
    "run_control": {
     "frozen": false,
     "read_only": false
    }
   },
   "outputs": [],
   "source": [
    "#%load_ext autoreload\n",
    "#%autoreload 2"
   ]
  },
  {
   "cell_type": "code",
   "execution_count": 2,
   "metadata": {
    "collapsed": true,
    "run_control": {
     "frozen": false,
     "read_only": false
    }
   },
   "outputs": [],
   "source": [
    "import sys\n",
    "sys.path.append('..')"
   ]
  },
  {
   "cell_type": "code",
   "execution_count": 3,
   "metadata": {
    "run_control": {
     "frozen": false,
     "read_only": false
    }
   },
   "outputs": [],
   "source": [
    "from functools import partial\n",
    "from multiprocessing.pool import Pool\n",
    "\n",
    "import Levenshtein\n",
    "import matplotlib.pyplot as plt\n",
    "from sklearn.metrics.pairwise import cosine_similarity\n",
    "from tqdm import tqdm_notebook as tqdm\n",
    "\n",
    "from src.text_transformer import SimpleTextTransformer, TfidfTextTransformer, WmdTextTransformer\n",
    "from src.corpora import load_corpora, normalize_corpora\n",
    "\n",
    "from data import load_questions_data\n",
    "from typo_making import variants\n",
    "\n",
    "%matplotlib inline"
   ]
  },
  {
   "cell_type": "code",
   "execution_count": null,
   "metadata": {
    "collapsed": true,
    "run_control": {
     "frozen": false,
     "read_only": false
    }
   },
   "outputs": [],
   "source": []
  },
  {
   "cell_type": "code",
   "execution_count": 4,
   "metadata": {
    "collapsed": true,
    "run_control": {
     "frozen": false,
     "read_only": false
    }
   },
   "outputs": [],
   "source": [
    "questions = load_questions_data()"
   ]
  },
  {
   "cell_type": "code",
   "execution_count": 5,
   "metadata": {
    "run_control": {
     "frozen": false,
     "read_only": false
    }
   },
   "outputs": [
    {
     "data": {
      "text/plain": [
       "['как долго рассматривается проект ',\n",
       " 'я за неделю успею получить решение',\n",
       " 'сколько рассматривается сделка по спецтехнике?',\n",
       " 'как скоро я получу ответ по заявке по спецтехнике?',\n",
       " 'сколько времени ждать по спецтехнике?',\n",
       " 'сколько времени занимает рассмотрение ',\n",
       " 'сколько дней принятие решения',\n",
       " 'как долго уйдет на принятие решения по мне',\n",
       " 'сколько времени займет принятие решения по проекту',\n",
       " 'как быстро я смогу получить грузовой автомобиль',\n",
       " 'Я хочу заключить лизинговую сделку завтра / сегодня ']"
      ]
     },
     "execution_count": 5,
     "metadata": {},
     "output_type": "execute_result"
    }
   ],
   "source": [
    "questions[0]"
   ]
  },
  {
   "cell_type": "code",
   "execution_count": 6,
   "metadata": {
    "run_control": {
     "frozen": false,
     "read_only": false
    }
   },
   "outputs": [
    {
     "data": {
      "text/plain": [
       "281"
      ]
     },
     "execution_count": 6,
     "metadata": {},
     "output_type": "execute_result"
    }
   ],
   "source": [
    "len(questions)"
   ]
  },
  {
   "cell_type": "code",
   "execution_count": null,
   "metadata": {
    "collapsed": true,
    "run_control": {
     "frozen": false,
     "read_only": false
    }
   },
   "outputs": [],
   "source": []
  },
  {
   "cell_type": "code",
   "execution_count": 7,
   "metadata": {
    "collapsed": true,
    "run_control": {
     "frozen": false,
     "read_only": false
    },
    "scrolled": true
   },
   "outputs": [],
   "source": [
    "corpora = load_corpora()"
   ]
  },
  {
   "cell_type": "code",
   "execution_count": 8,
   "metadata": {
    "run_control": {
     "frozen": false,
     "read_only": false
    }
   },
   "outputs": [
    {
     "data": {
      "text/plain": [
       "323061"
      ]
     },
     "execution_count": 8,
     "metadata": {},
     "output_type": "execute_result"
    }
   ],
   "source": [
    "len(corpora)"
   ]
  },
  {
   "cell_type": "code",
   "execution_count": 9,
   "metadata": {
    "collapsed": true,
    "run_control": {
     "frozen": false,
     "read_only": false
    }
   },
   "outputs": [],
   "source": [
    "corpora = normalize_corpora(corpora)"
   ]
  },
  {
   "cell_type": "code",
   "execution_count": 10,
   "metadata": {
    "run_control": {
     "frozen": false,
     "read_only": false
    }
   },
   "outputs": [
    {
     "data": {
      "text/plain": [
       "113934"
      ]
     },
     "execution_count": 10,
     "metadata": {},
     "output_type": "execute_result"
    }
   ],
   "source": [
    "len(corpora)"
   ]
  },
  {
   "cell_type": "code",
   "execution_count": null,
   "metadata": {
    "collapsed": true,
    "run_control": {
     "frozen": false,
     "read_only": false
    }
   },
   "outputs": [],
   "source": []
  },
  {
   "cell_type": "code",
   "execution_count": 11,
   "metadata": {
    "collapsed": true,
    "run_control": {
     "frozen": false,
     "read_only": false
    }
   },
   "outputs": [],
   "source": [
    "# def test_one(transformer_class, questions_groups, question):\n",
    "#     test_questions_groups = []\n",
    "#     group_where_is_question = None\n",
    "#     for group in questions_groups:\n",
    "#         if question in group:\n",
    "#             if group_where_is_question is not None:\n",
    "#                 print('warning: question \"{}\" is in both group \"{}\" and \"{}\"'.format(question, group_where_is_question, group))\n",
    "#                 print('ignore question')\n",
    "#                 return None\n",
    "#             group_where_is_question = [it for it in group if it != question]\n",
    "#             test_questions_groups.append(group_where_is_question)\n",
    "#         else:\n",
    "#             test_questions_groups.append(group)\n",
    "            \n",
    "#     assert group_where_is_question is not None\n",
    "  \n",
    "#     transformer = transformer_class()\n",
    "#     transformer.fit(test_questions_groups)\n",
    "    \n",
    "#     question_vec = transformer.transform(question)\n",
    "#     vecs_groups = [(transformer.transform(q), group) for group in test_questions_groups for q in group]\n",
    "    \n",
    "#     pred_group_where_is_question = max(vecs_groups, key=lambda it: cosine_similarity(question_vec, it[0])[0])[1]\n",
    "#     return group_where_is_question == pred_group_where_is_question\n",
    "\n",
    "\n",
    "# def test_one_job(p):\n",
    "#     print('Start', p[0])\n",
    "#     r = test_one(p[2], p[3], p[1])\n",
    "#     print('✓ Done', r, p[0])\n",
    "#     return r\n",
    "            \n",
    "\n",
    "# def test_all(transformer_class, questions_groups):\n",
    "#     pool = Pool(4)\n",
    "#     scores = pool.map(test_one_job, [(i, it, transformer_class, questions_groups) \n",
    "#                                      for i, it in enumerate([it for group in questions_groups for it in group])])\n",
    "#     scores = [it for it in scores if it is not None]\n",
    "    \n",
    "#     accuracy = sum(scores) / len(scores)\n",
    "#     return accuracy"
   ]
  },
  {
   "cell_type": "code",
   "execution_count": 17,
   "metadata": {},
   "outputs": [],
   "source": [
    "def exclude_repeates_in_questions(questions_groups):\n",
    "    new_groups = list()\n",
    "    question_set = set()\n",
    "    for group in questions_groups:\n",
    "        new_groups.append([q for q in group if q not in question_set])\n",
    "        for q in group:\n",
    "            question_set.add(q)\n",
    "    return new_groups\n",
    "            \n",
    "\n",
    "def test_one(question_group_tuple, transformer, questions_groups):\n",
    "    question_vec = transformer.transform(question_group_tuple[0])\n",
    "    vecs_groups = [(transformer.transform(q), group) for group in questions_groups \n",
    "                                                     for q in group\n",
    "                                                     if q != question_group_tuple[0]]\n",
    "    \n",
    "    pred_group_where_is_question = max(vecs_groups, key=lambda it: cosine_similarity(question_vec, it[0])[0])[1]\n",
    "    r = question_group_tuple[1] == pred_group_where_is_question\n",
    "    print('Done', r, question_group_tuple[0])\n",
    "    return r\n",
    "    \n",
    "    \n",
    "def test_all(transformer, questions_groups):\n",
    "    questions_groups = exclude_repeates_in_questions(questions_groups)\n",
    "    \n",
    "    print('Fitting questions')\n",
    "    transformer.fit(questions_groups)\n",
    "    print('Fitted')\n",
    "    \n",
    "    pool = Pool(4)\n",
    "    data = [(q, group) for group in questions_groups for q in group]\n",
    "    scores = pool.map(partial(test_one, transformer=transformer, questions_groups=questions_groups), data)\n",
    "    return sum(scores) / len(scores)"
   ]
  },
  {
   "cell_type": "code",
   "execution_count": null,
   "metadata": {
    "run_control": {
     "frozen": false,
     "read_only": false
    },
    "scrolled": false
   },
   "outputs": [
    {
     "name": "stdout",
     "output_type": "stream",
     "text": [
      "questions count: 1142\n",
      "Fitting questions\n"
     ]
    }
   ],
   "source": [
    "questions_subset = questions\n",
    "print('questions count:', len([it for group in questions_subset for it in group]))\n",
    "test_all(transformer=TfidfTextTransformer(corpora=corpora), questions_groups=questions_subset)"
   ]
  },
  {
   "cell_type": "code",
   "execution_count": null,
   "metadata": {
    "collapsed": true
   },
   "outputs": [],
   "source": []
  }
 ],
 "metadata": {
  "kernelspec": {
   "display_name": "Python 3",
   "language": "python",
   "name": "python3"
  },
  "language_info": {
   "codemirror_mode": {
    "name": "ipython",
    "version": 3
   },
   "file_extension": ".py",
   "mimetype": "text/x-python",
   "name": "python",
   "nbconvert_exporter": "python",
   "pygments_lexer": "ipython3",
   "version": "3.6.2"
  }
 },
 "nbformat": 4,
 "nbformat_minor": 2
}
